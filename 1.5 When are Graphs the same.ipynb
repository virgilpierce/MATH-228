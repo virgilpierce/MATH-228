{
 "cells": [
  {
   "cell_type": "markdown",
   "metadata": {},
   "source": [
    "# 1.4 Functions\n",
    "\n",
    "Functions are rules between two sets relating every input element to exactly one output element. Note, the Python definition of a function is quite a bit broader, however I have found that thinking in terms of a programming function is really helpful in imagining what a mathematical function could be.\n",
    "\n",
    "Given a set of inputs $X$, and outputs $Y$ we say that $$ f: X\\to Y.$$\n",
    "\n",
    "For example $f(x) = x^2 + 5$ is a function from $\\mathbb{N}$ to $\\mathbb{N}$. (note that we do not necessarily need to realize every output."
   ]
  },
  {
   "cell_type": "markdown",
   "metadata": {},
   "source": [
    "## Example 12\n",
    "\n",
    "*In the breakout rooms:* Give some examples of things that seem to be rules from an input set to an output set, but that are not functions."
   ]
  },
  {
   "cell_type": "markdown",
   "metadata": {},
   "source": [
    "## Example 13\n",
    "\n",
    "Our book gives lots of examples of how we can define and represent functions. I want to focus on one you may not be very familiar with. A **recursively** defined function is a function that uses itself in its definition.\n",
    "\n",
    "For example given $$ f: \\mathbb{N} \\to \\mathbb{N}$$ defined by $f(0) = 4$ and \n",
    "\n",
    "$$ f(n+1) = 2 f(n) + 1$$ \n",
    "\n",
    "Find f(5)."
   ]
  },
  {
   "cell_type": "markdown",
   "metadata": {},
   "source": [
    "Note that recursive functions are a very important programing technique. Take CS 301 with me in the Spring if you would like to learn more about why this technique is so important. For now though note we can solve Example 13 with a Python Function:"
   ]
  },
  {
   "cell_type": "code",
   "execution_count": 1,
   "metadata": {},
   "outputs": [
    {
     "data": {
      "text/plain": [
       "159"
      ]
     },
     "execution_count": 1,
     "metadata": {},
     "output_type": "execute_result"
    }
   ],
   "source": [
    "def f(n):\n",
    "    \n",
    "    if n==0:\n",
    "        return 4\n",
    "    else:\n",
    "        return 2*f(n-1) +1\n",
    "    \n",
    "f(5)"
   ]
  },
  {
   "cell_type": "markdown",
   "metadata": {},
   "source": [
    "## Example 14\n",
    "\n",
    "A function is **surjective** if every output is realized for at least one input. Note that multiple inputs might map to the same output.\n",
    "\n",
    "Show that the function given by the table is surjective to the set $\\{ a, b, c\\}$\n",
    "\n",
    "| x | 1 | 2 | 3 | 4 |\n",
    "| --- | --- | --- | --- | --- |\n",
    "| g(x) | a | b | c | a |"
   ]
  },
  {
   "cell_type": "markdown",
   "metadata": {},
   "source": [
    "## Example 15\n",
    "\n",
    "A function is **injective** if every input is taken to a unique output. \n",
    "\n",
    "I.e. if $f:X\\to Y$ is injective, then given $a, b \\in X$ if $f(a)= f(b)$ then $a=b$.\n",
    "\n",
    "Show that $f(x) = 2x$ from $\\mathbb{N}$ to $\\mathbb{N}$ is injective."
   ]
  },
  {
   "cell_type": "markdown",
   "metadata": {},
   "source": [
    "## Example 16\n",
    "\n",
    "The image of a function is the set of all outputs it actually achieves. For example, given $f(x) = 2x $ from $\\mathbb{N}$ to $\\mathbb{N}$, find the image\n",
    "\n",
    "$$ f( \\{ 2n: n\\in \\mathbb{N} \\} )$$ \n",
    "\n",
    "Note that while the output of a function is an *element* of the range; the image of a function is a *subset* of the range."
   ]
  },
  {
   "cell_type": "markdown",
   "metadata": {},
   "source": [
    "## Example 17\n",
    "\n",
    "The inverse image of a function is the set of all inputs that map to the set. For example given f(x) = 2x from $\\mathbb{N}$ to $\\mathbb{N}$, find the inverse image\n",
    "\n",
    "$$f^{-1}( { n \\in\\mathbb{N}: n< 10}) $$"
   ]
  },
  {
   "cell_type": "markdown",
   "metadata": {},
   "source": [
    "## Inverses versus Inverse Images\n",
    "\n",
    "Note that unless a function is **bijective** (injective and surjective) it does not really make sense to talk about its inverse (we of course abuse notation a lot in mathematics and pretend like it is no big deal). \n",
    "\n",
    "However, note that the inverse image, is take a subset of the range to a subset of the domain and thus we do not need an injective function for it to make sense."
   ]
  },
  {
   "cell_type": "markdown",
   "metadata": {},
   "source": [
    "### Example 18\n",
    "\n",
    "The university gives out parking passes to students and staff. We can consider the function that takes a person and identifies the parking pass they are using.\n",
    "\n",
    "1. Is this a function?  (i.e. is it well defined?)  If it is not, how could we fix it?\n",
    "2. Okay so now we have a function. Consider the set of students in my classes. What is the image of the parking pass function for this set?\n",
    "3. What is the image of the complement of that set?\n",
    "4. Suppose there is an accident some day - a windstorm knows over some trees in one of the university parking lots. The police collect the numbers from all of the passes, and then need to know what the inverse image is of that set. What will they get?"
   ]
  },
  {
   "cell_type": "markdown",
   "metadata": {},
   "source": [
    "## 1.5 When are two graphs the same?\n",
    "\n",
    "Okay so with a formal definition of function, injections, and surjections, we are now in a position to ask a question that has maybe been bothering you for a bit now. When can we say that two graphs are the same? \n",
    "\n",
    "We've already in the last two weeks been a little bit uncareful about our definitions and sort of abused this. For example in talking the complete graph on n vertices.\n",
    "\n",
    "### Definition of Graph\n",
    "\n",
    "To begin with, let's review. What is our definition of a graph?"
   ]
  },
  {
   "cell_type": "markdown",
   "metadata": {},
   "source": [
    "???"
   ]
  },
  {
   "cell_type": "markdown",
   "metadata": {},
   "source": [
    "### When are two graphs equal?\n",
    "\n",
    "So then the question of when two graphs, $G_1$ and $G_2$ are equal. They are equal if the set of vertices of $G_1$ is equal to the set of vertices of $G_2$. Note in particular that we do not care how the graph is drawn, and the same collection of vertices and edges arranged in a different way is the same graph.\n",
    "\n",
    "Easy!  Yay!  Let's go get a cake!"
   ]
  },
  {
   "cell_type": "markdown",
   "metadata": {},
   "source": [
    "Ahh. But what about these two examples:"
   ]
  },
  {
   "cell_type": "code",
   "execution_count": 7,
   "metadata": {},
   "outputs": [
    {
     "data": {
      "image/png": "[encoded data removed]",
      "text/plain": [
       "<Figure size 432x288 with 1 Axes>"
      ]
     },
     "metadata": {},
     "output_type": "display_data"
    }
   ],
   "source": [
    "import networkx as nx\n",
    "\n",
    "G1 = nx.Graph()\n",
    "G1.add_nodes_from(['A', 'B', 'C'])\n",
    "G1.add_edges_from([('A', 'B'), ('B', 'C'), ('A', 'C')])\n",
    "nx.draw(G1, with_labels=True)"
   ]
  },
  {
   "cell_type": "code",
   "execution_count": 9,
   "metadata": {},
   "outputs": [
    {
     "data": {
      "image/png": "[encoded data removed]",
      "text/plain": [
       "<Figure size 432x288 with 1 Axes>"
      ]
     },
     "metadata": {},
     "output_type": "display_data"
    }
   ],
   "source": [
    "G2 = nx.Graph()\n",
    "G2.add_nodes_from(['Virgil', 'Nick', 'Nancy'])\n",
    "G2.add_edges_from([('Virgil', 'Nancy'), ('Virgil', 'Nick'), ('Nancy', 'Nick')])\n",
    "nx.draw(G2, with_labels=True)"
   ]
  },
  {
   "cell_type": "markdown",
   "metadata": {},
   "source": [
    "#### Are these graphs equal?"
   ]
  },
  {
   "cell_type": "markdown",
   "metadata": {},
   "source": [
    "#### Does that seem right?"
   ]
  },
  {
   "cell_type": "markdown",
   "metadata": {},
   "source": [
    "Okay so what to do?  Clearly we need a way to talk about two graphs being essentially the same, or maybe transformable into each other.\n",
    "\n",
    "What we need to do is talk about whether the sets of vertices:\n",
    "\n",
    "$$ \\{ A, B, C \\} \\quad\\mbox{and}\\quad \\{ Virgil, Nick, Nancy \\} $$\n",
    "\n",
    "and the sets of edges \n",
    "\n",
    "$$ \\{ \\{A, B\\}, \\{B, C\\}, \\{A, C\\} \\} \\quad \\mbox{and}\\quad \\{ \\{Virgil, Nick\\}, \\{Virgil, Nancy\\}, \\{Nick, Nancy\\} \\} $$\n",
    "\n",
    "Have a function that takes one to the other. Note that we need to be able to define the function on the sets of vertices, and then the set of edges needs to just inherit it. "
   ]
  },
  {
   "cell_type": "markdown",
   "metadata": {},
   "source": [
    "### Isomorphism\n",
    "\n",
    "We will say that two graphs $G_1$ and $G_2$ are **isomorphic**, if there exists a bijective (injective and surjective) function from the vertices of $G_1$ to the vertices of $G_2$, which gives a bijective function on the edges as well.\n",
    "\n",
    "#### Example 1\n",
    "\n",
    "Consider the two graphs\n",
    "<img src = 'graph-iso.png' />\n",
    "Are they isomorphic or not isomorphic?\n"
   ]
  },
  {
   "cell_type": "markdown",
   "metadata": {},
   "source": [
    "Isomorphic graphs share all of the same properties. Essentially their only differences are in the names applied to the labels, and as in the example above possibly in how they are drawn.\n",
    "\n",
    "### Other Questions\n",
    "\n",
    "One interesting question is how many isomorphisms are there between two isomorphic graphs?\n",
    "\n",
    "Another is whether we can find an isomorphism from a graph to itself (what we would call an **automorphism**\n",
    "\n",
    "### Subgraphs\n",
    "\n",
    "A **subgraph** is obviously just a subset of the vertices of a graph, together with a subset of the edges, but only from the edges that connect to vertices in the subgraph (otherwise the subgraph would not be a graph.\n",
    "\n",
    "For example, in the graph above there is a subgraph isomorphic to $C_8$.\n",
    "\n",
    "#### Induced Subgraph\n",
    "\n",
    "An **induced subgraph** is a subset of the verticesof the graph, and all of the edges from the graph that interconnect those vertices. \n",
    "\n",
    "For the example above notice that $C_8$ is not an induced subgraph. \n",
    "\n",
    "Note that there are multiple induced subgraphs isomorphic to $C_4$.\n",
    "\n",
    "Is $C_5$ and induced subgraph of this example?\n",
    "\n"
   ]
  },
  {
   "cell_type": "code",
   "execution_count": null,
   "metadata": {},
   "outputs": [],
   "source": []
  }
 ],
 "metadata": {
  "kernelspec": {
   "display_name": "Python 3",
   "language": "python",
   "name": "python3"
  },
  "language_info": {
   "codemirror_mode": {
    "name": "ipython",
    "version": 3
   },
   "file_extension": ".py",
   "mimetype": "text/x-python",
   "name": "python",
   "nbconvert_exporter": "python",
   "pygments_lexer": "ipython3",
   "version": "3.7.4"
  }
 },
 "nbformat": 4,
 "nbformat_minor": 2
}
