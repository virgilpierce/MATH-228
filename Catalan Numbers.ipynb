{
 "cells": [
  {
   "cell_type": "code",
   "execution_count": 5,
   "metadata": {},
   "outputs": [],
   "source": [
    "c = [1, 2, 5]"
   ]
  },
  {
   "cell_type": "code",
   "execution_count": 3,
   "metadata": {},
   "outputs": [
    {
     "data": {
      "text/plain": [
       "14"
      ]
     },
     "execution_count": 3,
     "metadata": {},
     "output_type": "execute_result"
    }
   ],
   "source": [
    "c += [ c[0]*c[2] + c[1]*c[1]+ c[2]*c[0] ]\n",
    "c[3]"
   ]
  },
  {
   "cell_type": "code",
   "execution_count": 4,
   "metadata": {},
   "outputs": [
    {
     "data": {
      "text/plain": [
       "[1, 2, 5, 14]"
      ]
     },
     "execution_count": 4,
     "metadata": {},
     "output_type": "execute_result"
    }
   ],
   "source": [
    "c"
   ]
  },
  {
   "cell_type": "code",
   "execution_count": 9,
   "metadata": {},
   "outputs": [
    {
     "data": {
      "text/plain": [
       "[1,\n",
       " 2,\n",
       " 5,\n",
       " 14,\n",
       " 48,\n",
       " 177,\n",
       " 686,\n",
       " 2756,\n",
       " 11370,\n",
       " 47884,\n",
       " 205008,\n",
       " 889605,\n",
       " 3903862,\n",
       " 17294716,\n",
       " 77244230]"
      ]
     },
     "execution_count": 9,
     "metadata": {},
     "output_type": "execute_result"
    }
   ],
   "source": [
    "c = [1, 2, 5]\n",
    "for n in range(3, 15):\n",
    "    temp = [ c[k]*c[n-k-1] for k in range(n) ]\n",
    "    c += [ sum(temp) ]\n",
    "    \n",
    "c"
   ]
  },
  {
   "cell_type": "code",
   "execution_count": 10,
   "metadata": {},
   "outputs": [
    {
     "data": {
      "text/plain": [
       "[1,\n",
       " 3,\n",
       " 9,\n",
       " 34,\n",
       " 129,\n",
       " 509,\n",
       " 2070,\n",
       " 8614,\n",
       " 36514,\n",
       " 157124,\n",
       " 684597,\n",
       " 3014257,\n",
       " 13390854,\n",
       " 59949514]"
      ]
     },
     "execution_count": 10,
     "metadata": {},
     "output_type": "execute_result"
    }
   ],
   "source": [
    "c1 = [ c[k+1] - c[k] for k in range(len(c)-1) ]\n",
    "c1"
   ]
  },
  {
   "cell_type": "code",
   "execution_count": 12,
   "metadata": {},
   "outputs": [
    {
     "data": {
      "text/plain": [
       "[2,\n",
       " 6,\n",
       " 25,\n",
       " 95,\n",
       " 380,\n",
       " 1561,\n",
       " 6544,\n",
       " 27900,\n",
       " 120610,\n",
       " 527473,\n",
       " 2329660,\n",
       " 10376597,\n",
       " 46558660]"
      ]
     },
     "execution_count": 12,
     "metadata": {},
     "output_type": "execute_result"
    }
   ],
   "source": [
    "c2 = [ c1[k+1] - c1[k] for k in range(len(c1) - 1) ]\n",
    "c2"
   ]
  },
  {
   "cell_type": "code",
   "execution_count": 13,
   "metadata": {},
   "outputs": [
    {
     "data": {
      "text/plain": [
       "[4, 19, 70, 285, 1181, 4983, 21356, 92710, 406863, 1802187, 8046937, 36182063]"
      ]
     },
     "execution_count": 13,
     "metadata": {},
     "output_type": "execute_result"
    }
   ],
   "source": [
    "c3 = [ c2[k+1] - c2[k] for k in range(len(c2) - 1) ]\n",
    "c3"
   ]
  },
  {
   "cell_type": "code",
   "execution_count": 14,
   "metadata": {},
   "outputs": [
    {
     "data": {
      "text/plain": [
       "[2.0,\n",
       " 2.5,\n",
       " 2.8,\n",
       " 3.4285714285714284,\n",
       " 3.6875,\n",
       " 3.8757062146892656,\n",
       " 4.017492711370262,\n",
       " 4.125544267053701,\n",
       " 4.211433597185576,\n",
       " 4.281346587586667,\n",
       " 4.339367244205104,\n",
       " 4.388309418224942,\n",
       " 4.430155574146832,\n",
       " 4.466348565654388]"
      ]
     },
     "execution_count": 14,
     "metadata": {},
     "output_type": "execute_result"
    }
   ],
   "source": [
    "c1 = [ c[k+1]/c[k] for k in range(len(c) - 1) ]\n",
    "c1"
   ]
  },
  {
   "cell_type": "code",
   "execution_count": 15,
   "metadata": {},
   "outputs": [
    {
     "data": {
      "text/plain": [
       "[1.25,\n",
       " 1.1199999999999999,\n",
       " 1.2244897959183674,\n",
       " 1.0755208333333335,\n",
       " 1.0510389734750551,\n",
       " 1.0365833963739597,\n",
       " 1.0268952711171404,\n",
       " 1.0208189088692567,\n",
       " 1.0166007581000003,\n",
       " 1.0135519644185458,\n",
       " 1.0112786430061196,\n",
       " 1.0095358261995155,\n",
       " 1.0081696886038876]"
      ]
     },
     "execution_count": 15,
     "metadata": {},
     "output_type": "execute_result"
    }
   ],
   "source": [
    "c2 = [ c1[k+1]/c1[k] for k in range(len(c1)-1)]\n",
    "c2"
   ]
  },
  {
   "cell_type": "code",
   "execution_count": null,
   "metadata": {},
   "outputs": [],
   "source": []
  }
 ],
 "metadata": {
  "kernelspec": {
   "display_name": "Python 3",
   "language": "python",
   "name": "python3"
  },
  "language_info": {
   "codemirror_mode": {
    "name": "ipython",
    "version": 3
   },
   "file_extension": ".py",
   "mimetype": "text/x-python",
   "name": "python",
   "nbconvert_exporter": "python",
   "pygments_lexer": "ipython3",
   "version": "3.7.4"
  }
 },
 "nbformat": 4,
 "nbformat_minor": 4
}
