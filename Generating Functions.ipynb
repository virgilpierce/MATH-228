{
 "cells": [
  {
   "cell_type": "code",
   "execution_count": 14,
   "metadata": {},
   "outputs": [],
   "source": [
    "import sympy as sy\n",
    "import numpy as np"
   ]
  },
  {
   "cell_type": "code",
   "execution_count": 15,
   "metadata": {},
   "outputs": [],
   "source": [
    "def factorial(n):\n",
    "    if n<=0:\n",
    "        return 1\n",
    "    else:\n",
    "        return n*factorial(n-1)"
   ]
  },
  {
   "cell_type": "markdown",
   "metadata": {},
   "source": [
    "Reminder the Taylor Series (or Sum) of a function if it exists, is computed by taking successive derivatives and combining with powers of the variable:\n",
    "\n",
    "$$ \\mbox{Taylor Series of $f(x)$ centered at $x=x_0$ is} = \\sum_{i=0}^\\infty f^{(i)}(x_0) \\frac{(x-x_0)^i}{i!} $$"
   ]
  },
  {
   "cell_type": "code",
   "execution_count": 16,
   "metadata": {},
   "outputs": [],
   "source": [
    "def taylor(function, x0, n):\n",
    "    i=0\n",
    "    p=0\n",
    "    while i<=n:\n",
    "        p = p+ (function.diff(x, i).subs(x, x0))/(factorial(i)) *(x-x0)**i\n",
    "        i += 1\n",
    "    \n",
    "    # this returns the truncated Taylor series. \n",
    "    # While it computes it, it does not give us a hint of what the pattern \n",
    "    # might be and what a formula for the series might be. \n",
    "    # To do that working by hand or using more sophisticated symbolic tools\n",
    "    # are needed\n",
    "    \n",
    "    return p"
   ]
  },
  {
   "cell_type": "code",
   "execution_count": 17,
   "metadata": {},
   "outputs": [],
   "source": [
    "# delcare the symbolic variable\n",
    "x = sy.Symbol('x')\n",
    "\n",
    "# import a few of the common functions whose Taylor series you may know\n",
    "from sympy.functions import exp, sin, cos, sqrt, tan"
   ]
  },
  {
   "cell_type": "code",
   "execution_count": 18,
   "metadata": {},
   "outputs": [
    {
     "data": {
      "text/latex": [
       "$\\displaystyle \\frac{x^{10}}{3628800} + \\frac{x^{9}}{362880} + \\frac{x^{8}}{40320} + \\frac{x^{7}}{5040} + \\frac{x^{6}}{720} + \\frac{x^{5}}{120} + \\frac{x^{4}}{24} + \\frac{x^{3}}{6} + \\frac{x^{2}}{2} + x + 1$"
      ],
      "text/plain": [
       "x**10/3628800 + x**9/362880 + x**8/40320 + x**7/5040 + x**6/720 + x**5/120 + x**4/24 + x**3/6 + x**2/2 + x + 1"
      ]
     },
     "execution_count": 18,
     "metadata": {},
     "output_type": "execute_result"
    }
   ],
   "source": [
    "# test the function on a well known function\n",
    "taylor(exp(x), 0, 10)"
   ]
  },
  {
   "cell_type": "code",
   "execution_count": 22,
   "metadata": {},
   "outputs": [
    {
     "data": {
      "text/latex": [
       "$\\displaystyle - \\frac{x^{10}}{3628800} + \\frac{x^{9}}{362880} + \\frac{x^{8}}{40320} - \\frac{x^{7}}{5040} - \\frac{x^{6}}{720} + \\frac{x^{5}}{120} + \\frac{x^{4}}{24} - \\frac{x^{3}}{6} - \\frac{x^{2}}{2} + x + 1$"
      ],
      "text/plain": [
       "-x**10/3628800 + x**9/362880 + x**8/40320 - x**7/5040 - x**6/720 + x**5/120 + x**4/24 - x**3/6 - x**2/2 + x + 1"
      ]
     },
     "execution_count": 22,
     "metadata": {},
     "output_type": "execute_result"
    }
   ],
   "source": [
    "taylor(sin(x), 0, 10) + taylor(cos(x), 0, 10)"
   ]
  },
  {
   "cell_type": "code",
   "execution_count": 23,
   "metadata": {},
   "outputs": [],
   "source": [
    "# Generating Function for the Fibonacci Sequence\n",
    "F = 1/(1 - x - x**2) "
   ]
  },
  {
   "cell_type": "code",
   "execution_count": 25,
   "metadata": {},
   "outputs": [
    {
     "data": {
      "text/latex": [
       "$\\displaystyle 233 x^{12} + 144 x^{11} + 89 x^{10} + 55 x^{9} + 34 x^{8} + 21 x^{7} + 13 x^{6} + 8 x^{5} + 5 x^{4} + 3 x^{3} + 2 x^{2} + x + 1$"
      ],
      "text/plain": [
       "233*x**12 + 144*x**11 + 89*x**10 + 55*x**9 + 34*x**8 + 21*x**7 + 13*x**6 + 8*x**5 + 5*x**4 + 3*x**3 + 2*x**2 + x + 1"
      ]
     },
     "execution_count": 25,
     "metadata": {},
     "output_type": "execute_result"
    }
   ],
   "source": [
    "taylor(F, 0, 12)"
   ]
  },
  {
   "cell_type": "code",
   "execution_count": 29,
   "metadata": {},
   "outputs": [
    {
     "data": {
      "text/latex": [
       "$\\displaystyle 377$"
      ],
      "text/plain": [
       "377"
      ]
     },
     "execution_count": 29,
     "metadata": {},
     "output_type": "execute_result"
    }
   ],
   "source": [
    "(F.diff(x, 13).subs(x, 0))/(factorial(13))"
   ]
  },
  {
   "cell_type": "code",
   "execution_count": 32,
   "metadata": {},
   "outputs": [],
   "source": [
    "xC = (1 - sqrt(1 - 4*x))/(2)"
   ]
  },
  {
   "cell_type": "code",
   "execution_count": 37,
   "metadata": {},
   "outputs": [
    {
     "data": {
      "text/latex": [
       "$\\displaystyle 58786 x^{11} + 16796 x^{10} + 4862 x^{9} + 1430 x^{8} + 429 x^{7} + 132 x^{6} + 42 x^{5} + 14 x^{4} + 5 x^{3} + 2 x^{2} + x + 1$"
      ],
      "text/plain": [
       "58786*x**11 + 16796*x**10 + 4862*x**9 + 1430*x**8 + 429*x**7 + 132*x**6 + 42*x**5 + 14*x**4 + 5*x**3 + 2*x**2 + x + 1"
      ]
     },
     "execution_count": 37,
     "metadata": {},
     "output_type": "execute_result"
    }
   ],
   "source": [
    "(taylor(xC, 0, 12)/x).expand()"
   ]
  },
  {
   "cell_type": "code",
   "execution_count": null,
   "metadata": {},
   "outputs": [],
   "source": []
  }
 ],
 "metadata": {
  "kernelspec": {
   "display_name": "Python 3",
   "language": "python",
   "name": "python3"
  },
  "language_info": {
   "codemirror_mode": {
    "name": "ipython",
    "version": 3
   },
   "file_extension": ".py",
   "mimetype": "text/x-python",
   "name": "python",
   "nbconvert_exporter": "python",
   "pygments_lexer": "ipython3",
   "version": "3.7.4"
  }
 },
 "nbformat": 4,
 "nbformat_minor": 4
}
