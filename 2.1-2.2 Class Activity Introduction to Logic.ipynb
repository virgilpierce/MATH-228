{
 "cells": [
  {
   "cell_type": "markdown",
   "metadata": {},
   "source": [
    "# Introduction to Logic\n",
    "\n",
    "You should read sections 2.1 and 2.2 of our textbook. We will use this activity to introduce you to some ideas of logic and check your understanding, and then in class on Monday we will use this structure to talk about proofs.\n",
    "\n",
    "## Statements\n",
    "\n",
    "Logic begins with statements. For us, statements are sentences that have a True or False value. Some examples of statements are: \n",
    "\n",
    "- Your dog is barking.\n",
    "- My shirt was red.\n",
    "- Ahmed will not drive a car.\n",
    "\n",
    "All of these statements are either True or False (Ahmed will or will not drive a car).\n",
    "\n",
    "#### Q1: Give an example of a proper sentence (in English or another language if you prefer) that is not a statement (i.e. that is not True or False)."
   ]
  },
  {
   "cell_type": "markdown",
   "metadata": {},
   "source": []
  },
  {
   "cell_type": "markdown",
   "metadata": {},
   "source": [
    "## Combining Statements\n",
    "\n",
    "We can combine statements into more complicated statements using the logical connectives ([read the page in our book](http://math.oscarlevin.com/dmegt/sec_intro-statements.html). \n",
    "\n",
    "#### Q2: Suppose P = \"Your dog is barking\" and Q = \"My stereo is on\"; convert the symbols into English $P \\wedge \\neg Q$"
   ]
  },
  {
   "cell_type": "markdown",
   "metadata": {},
   "source": []
  },
  {
   "cell_type": "markdown",
   "metadata": {},
   "source": [
    "#### Q3: Convert the sentence \"If you don't have any dessert, you can't have any pudding.\" into symbols, where the atomic statements you use are *positive*\n",
    "\n",
    "(note a positive statement is statement whose sentence does not use a negative construction).  "
   ]
  },
  {
   "cell_type": "markdown",
   "metadata": {},
   "source": []
  },
  {
   "cell_type": "markdown",
   "metadata": {},
   "source": [
    "Note that Pythhon does exactly these things:"
   ]
  },
  {
   "cell_type": "code",
   "execution_count": 1,
   "metadata": {},
   "outputs": [
    {
     "data": {
      "text/plain": [
       "True"
      ]
     },
     "execution_count": 1,
     "metadata": {},
     "output_type": "execute_result"
    }
   ],
   "source": [
    "4 < 5"
   ]
  },
  {
   "cell_type": "code",
   "execution_count": 2,
   "metadata": {},
   "outputs": [
    {
     "data": {
      "text/plain": [
       "True"
      ]
     },
     "execution_count": 2,
     "metadata": {},
     "output_type": "execute_result"
    }
   ],
   "source": [
    "4 < 5 and not 2 == 3"
   ]
  },
  {
   "cell_type": "markdown",
   "metadata": {},
   "source": [
    "You can even be more abstract"
   ]
  },
  {
   "cell_type": "code",
   "execution_count": 6,
   "metadata": {},
   "outputs": [
    {
     "data": {
      "text/plain": [
       "False"
      ]
     },
     "execution_count": 6,
     "metadata": {},
     "output_type": "execute_result"
    }
   ],
   "source": [
    "P = False\n",
    "Q = True\n",
    "\n",
    "P or not Q"
   ]
  },
  {
   "cell_type": "markdown",
   "metadata": {},
   "source": [
    "## Implications\n",
    "\n",
    "An implication $P \\to Q$ in English means \"If P, then Q\" The P statement is the hypothesis or condition; and the Q statement is the consequence. Clearly we want this compound statement to be \n",
    "\n",
    "- True when P is True and Q is True,\n",
    "- False when P is True and Q is False,\n",
    "\n",
    "Less clearly though, and really it is convention, we will take it to be \n",
    "\n",
    "- True when P is False whether Q is True or False.\n",
    "\n",
    "## Logical Equivalence\n",
    "\n",
    "We will say that two statements are equivalent if they have the same True/False values for all possible True/False values of their components. Note they do not just need to be True at the same time, they also need to be False atthe same time.\n",
    "\n",
    "One way that we systematically check that two statements are equivalent, or show that they are not, is by building a Truth Table which gives all the possible combinations of True / False for the component statements. \n",
    "\n",
    "For example this table shows that $\\neg( P \\wedge Q ) = (\\neg P) \\vee (\\neg Q) $.  Which is one of De-Morgans Laws\n",
    "\n",
    "| P | Q | P and Q | not (P and Q) | not P | not Q | (not P) or (not Q) |\n",
    "| -- |-- |----------|----------|----|----|---------------|\n",
    "|T  | T | T | F | F | F | F |\n",
    "|T | F | F | T | F | T | T |\n",
    "|F | T | F |T | T | F | T |\n",
    "| F | F | F | T| T | T |T |\n",
    "\n",
    "Note that the column under $\\neg (P \\wedge Q) $ and the column under $ (\\neg P) \\vee (\\neg Q) $ are the same.\n",
    "\n",
    "#### Q4: Build a Truth table shwoing the other DeMorgans Law:  $\\neg (P \\vee Q) = (\\neg P ) \\wedge (\\neg Q) $"
   ]
  },
  {
   "cell_type": "markdown",
   "metadata": {},
   "source": []
  },
  {
   "cell_type": "markdown",
   "metadata": {},
   "source": [
    "#### Q5: Build a Truth table showing that $P \\to Q$ is logically equivalent to $Q \\vee (\\neg P)$. "
   ]
  },
  {
   "cell_type": "markdown",
   "metadata": {},
   "source": []
  },
  {
   "cell_type": "markdown",
   "metadata": {},
   "source": [
    "#### Q6: Use Q4 and Q5 to conclude that $\\neg ( P \\to Q) $ is logically equivalent to $ P \\wedge (\\neg Q)$."
   ]
  },
  {
   "cell_type": "markdown",
   "metadata": {},
   "source": []
  },
  {
   "cell_type": "markdown",
   "metadata": {},
   "source": [
    "### Deduction Rules\n",
    "\n",
    "Deduction rules made up of a set of premises and a set of conclusions. A deduction rule is **valid** if when all the premises are true, the conclusions are true. Typically, to keep things simple, while we might have multiple premises, we will have only one conclusion.\n",
    "\n",
    "#### Q7: Show that the deduction rule is valid (ignore the top border)\n",
    "\n",
    "| | \n",
    "|--|\n",
    "|P $\\to$ R|\n",
    "|Q $\\to$ R|\n",
    "|P $\\vee$ Q|\n",
    "|-------- |\n",
    "| $\\therefore$ R |"
   ]
  },
  {
   "cell_type": "markdown",
   "metadata": {},
   "source": []
  },
  {
   "cell_type": "markdown",
   "metadata": {},
   "source": [
    "## Predicate Logic\n",
    "\n",
    "More generally there are statements we want to work with whose True / False value is positionally dependent. These are called Predicate Statements and they show up in mathematics often.\n",
    "\n",
    "For example:  If the product of two numbers is even, one of the numbers is even. \n",
    "\n",
    "The value of the attomic statement \"The product of two numbers is even\" depends on what the two numbers are, but we want to consider this statement for all possible choices of those two numbers."
   ]
  },
  {
   "cell_type": "code",
   "execution_count": null,
   "metadata": {},
   "outputs": [],
   "source": []
  }
 ],
 "metadata": {
  "kernelspec": {
   "display_name": "Python 3",
   "language": "python",
   "name": "python3"
  },
  "language_info": {
   "codemirror_mode": {
    "name": "ipython",
    "version": 3
   },
   "file_extension": ".py",
   "mimetype": "text/x-python",
   "name": "python",
   "nbconvert_exporter": "python",
   "pygments_lexer": "ipython3",
   "version": "3.7.4"
  }
 },
 "nbformat": 4,
 "nbformat_minor": 2
}
